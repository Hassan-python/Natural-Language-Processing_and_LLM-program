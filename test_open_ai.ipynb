{
 "cells": [
  {
   "cell_type": "code",
   "execution_count": 3,
   "metadata": {},
   "outputs": [
    {
     "name": "stdout",
     "output_type": "stream",
     "text": [
      "Collecting openai\n",
      "  Downloading openai-0.27.2-py3-none-any.whl (70 kB)\n",
      "Requirement already satisfied: tqdm in c:\\programdata\\anaconda3\\lib\\site-packages (from openai) (4.62.3)\n",
      "Requirement already satisfied: requests>=2.20 in c:\\programdata\\anaconda3\\lib\\site-packages (from openai) (2.26.0)\n",
      "Requirement already satisfied: aiohttp in c:\\programdata\\anaconda3\\lib\\site-packages (from openai) (3.8.1)\n",
      "Requirement already satisfied: charset-normalizer~=2.0.0 in c:\\programdata\\anaconda3\\lib\\site-packages (from requests>=2.20->openai) (2.0.4)\n",
      "Requirement already satisfied: idna<4,>=2.5 in c:\\programdata\\anaconda3\\lib\\site-packages (from requests>=2.20->openai) (3.2)\n",
      "Requirement already satisfied: certifi>=2017.4.17 in c:\\programdata\\anaconda3\\lib\\site-packages (from requests>=2.20->openai) (2021.10.8)\n",
      "Requirement already satisfied: urllib3<1.27,>=1.21.1 in c:\\programdata\\anaconda3\\lib\\site-packages (from requests>=2.20->openai) (1.26.7)\n",
      "Requirement already satisfied: aiosignal>=1.1.2 in c:\\programdata\\anaconda3\\lib\\site-packages (from aiohttp->openai) (1.2.0)\n",
      "Requirement already satisfied: yarl<2.0,>=1.0 in c:\\programdata\\anaconda3\\lib\\site-packages (from aiohttp->openai) (1.7.2)\n",
      "Requirement already satisfied: attrs>=17.3.0 in c:\\programdata\\anaconda3\\lib\\site-packages (from aiohttp->openai) (21.2.0)\n",
      "Requirement already satisfied: multidict<7.0,>=4.5 in c:\\programdata\\anaconda3\\lib\\site-packages (from aiohttp->openai) (6.0.2)\n",
      "Requirement already satisfied: frozenlist>=1.1.1 in c:\\programdata\\anaconda3\\lib\\site-packages (from aiohttp->openai) (1.3.0)\n",
      "Requirement already satisfied: async-timeout<5.0,>=4.0.0a3 in c:\\programdata\\anaconda3\\lib\\site-packages (from aiohttp->openai) (4.0.2)\n",
      "Requirement already satisfied: colorama in c:\\programdata\\anaconda3\\lib\\site-packages (from tqdm->openai) (0.4.4)\n",
      "Installing collected packages: openai\n",
      "Successfully installed openai-0.27.2\n"
     ]
    }
   ],
   "source": [
    "!pip install openai"
   ]
  },
  {
   "cell_type": "code",
   "execution_count": 9,
   "metadata": {},
   "outputs": [],
   "source": [
    "import openai\n",
    "\n",
    "# replace YOUR_API_KEY with your actual API key for the ChatGPT service\n",
    "openai.api_key = \"YOUR_API_KEY\""
   ]
  },
  {
   "cell_type": "code",
   "execution_count": 85,
   "metadata": {},
   "outputs": [],
   "source": [
    "#prompt = \"Hello, I'm ChatGPT! What can I do for you today?\" #question\n",
    "prompt = \"今日の晩御飯のおすすめを，理由を含めて日本語で教えてください．\"\n",
    "response = openai.Completion.create(\n",
    "    engine=\"text-davinci-002\", #GPTエンジン\n",
    "    prompt=prompt, #渡すテキスト\n",
    "    max_tokens=1000, #トークンとは、テキストを意味のある塊に分割するプロセスであり、OpenAIのGPTモデルでは、基本的には単語または部分的な単語（サブワード）です。\n",
    "    n=5, #例えば、n=5と指定すると、APIから5つの文が生成され、それらの中から最も適した文が選択されます。\n",
    "    stop=None, #生成されたテキストに含めたくない文字列を指定\n",
    "    temperature=0.5, #生成されるテキストの多様性を調整するためのパラメーターです。値が低いほど、より予測可能で、高いほど、より多様である傾向があります。\n",
    ")\n",
    "message = response.choices[0].text.strip() #answer\n"
   ]
  },
  {
   "cell_type": "code",
   "execution_count": 86,
   "metadata": {},
   "outputs": [
    {
     "name": "stdout",
     "output_type": "stream",
     "text": [
      "今日の晩御飯のおすすめを，理由を含めて日本語で教えてください．\n",
      "今日の晩御飯のおすすめは，炊き込みご飯です．炊き込みご飯は，米とお湯を合わせて炊く料理です．炊き込みご飯は，米がしっかりと柔らかくなるので，とても美味しいです．また，炊き込みご飯は簡単に作れるので，おすすめです．\n"
     ]
    }
   ],
   "source": [
    "print(prompt)\n",
    "print(message)"
   ]
  },
  {
   "cell_type": "code",
   "execution_count": 84,
   "metadata": {},
   "outputs": [
    {
     "name": "stdout",
     "output_type": "stream",
     "text": [
      "大谷翔平は、1994年7月5日に日本の岩手県出身で、現在はメジャーリーグのロサンゼルス・エンゼルスでプレーする野球選手です。 彼は、世界で最も優れた二刀流選手の一人であり、投手としても打者としても優秀な成績を残しています。 2018年には、メジャーリーグでの新人王を受賞し、2019年には自身初のオールスターゲームに出場しました。\n"
     ]
    }
   ],
   "source": [
    "response = openai.ChatCompletion.create(\n",
    "    model=\"gpt-3.5-turbo\",\n",
    "    messages=[\n",
    "        {\"role\": \"user\", \"content\": \"大谷翔平について教えて\"},\n",
    "    ],\n",
    ")\n",
    "print(response.choices[0][\"message\"][\"content\"].strip())"
   ]
  }
 ],
 "metadata": {
  "kernelspec": {
   "display_name": "base",
   "language": "python",
   "name": "python3"
  },
  "language_info": {
   "codemirror_mode": {
    "name": "ipython",
    "version": 3
   },
   "file_extension": ".py",
   "mimetype": "text/x-python",
   "name": "python",
   "nbconvert_exporter": "python",
   "pygments_lexer": "ipython3",
   "version": "3.9.7"
  },
  "orig_nbformat": 4
 },
 "nbformat": 4,
 "nbformat_minor": 2
}
