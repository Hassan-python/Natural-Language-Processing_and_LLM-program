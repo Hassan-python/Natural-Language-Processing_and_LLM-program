{
  "cells": [
    {
      "cell_type": "markdown",
      "metadata": {},
      "source": [
        "### ライブラリのインポート"
      ]
    },
    {
      "cell_type": "code",
      "execution_count": null,
      "metadata": {},
      "outputs": [],
      "source": [
        "import MeCab\n",
        "import mojimoji\n",
        "import re\n",
        "import numpy as np\n",
        "import gensim\n",
        "import pickle\n",
        "import pandas as pd\n",
        "import matplotlib.pyplot as plt\n",
        "from matplotlib import cm\n",
        "from sklearn.feature_extraction.text import TfidfVectorizer, HashingVectorizer\n",
        "from sklearn.cluster import KMeans\n",
        "from sklearn.metrics import silhouette_samples\n",
        "from sklearn.model_selection import train_test_split\n",
        "from sklearn.preprocessing import StandardScaler\n",
        "from sklearn.linear_model import LogisticRegression\n",
        "from sklearn.neighbors import KNeighborsClassifier\n",
        "from sklearn.svm import SVC\n",
        "from sklearn.tree import DecisionTreeClassifier\n",
        "from sklearn.ensemble import RandomForestClassifier\n",
        "import math"
      ]
    },
    {
      "cell_type": "markdown",
      "metadata": {},
      "source": [
        "### Mecabの利用"
      ]
    },
    {
      "cell_type": "code",
      "execution_count": 4,
      "metadata": {
        "id": "ZFAIK_QJE0hN"
      },
      "outputs": [],
      "source": [
        "# 形態素解析\n",
        "m = MeCab.Tagger('-d /usr/lib/x86_64-linux-gnu/mecab/dic/mecab-ipadic-neologd')\n",
        "\n",
        "# 分かち書き関数\n",
        "def leaving_space_between_words_column(text):\n",
        "  lsbw_list = list()\n",
        "  X = m.parse(text).splitlines()[:-1] # 分かち書き 形態素解析して、名詞だけ持ってきている、重複を防ぐためのスライス\n",
        "  X = filter(lambda a: a != '', X)\n",
        "  X = list(X)\n",
        "  for x in X:\n",
        "    # 必要な品詞を取得    \n",
        "    if x.split('\\t')[1].split(',')[0] not in ['助詞', '助動詞', '接続詞', '動詞', '記号','補助記号']:\n",
        "      \n",
        "      \n",
        "      # アルファベットかを確認\n",
        "      if re.match(r'[A-z]+',x.split('\\t')[0]):\n",
        "        if x.split('\\t')[0] in ['ruby','php','sql','nodejs','python','vbnet','javascript','web','ok','mysql','java']:\n",
        "          lsbw_list.append(x.split('\\t')[0])\n",
        "        else: pass\n",
        "      \n",
        "      else: lsbw_list.append(x.split('\\t')[0])\n",
        "      \n",
        "  return ' '.join(lsbw_list)"
      ]
    },
    {
      "cell_type": "code",
      "execution_count": 5,
      "metadata": {
        "colab": {
          "base_uri": "https://localhost:8080/"
        },
        "id": "v20Zrdjhq9z0",
        "outputId": "b6e56bc4-ed19-4a80-f716-d53a157a6671"
      },
      "outputs": [
        {
          "name": "stdout",
          "output_type": "stream",
          "text": [
            "Looking in indexes: https://pypi.org/simple, https://us-python.pkg.dev/colab-wheels/public/simple/\n",
            "Requirement already satisfied: mojimoji in /usr/local/lib/python3.7/dist-packages (0.0.12)\n"
          ]
        }
      ],
      "source": [
        "def normalize_number(text):\n",
        "    # 連続した数字を置換\n",
        "    replaced_text = re.sub(r'\\d+', '', str(text))\n",
        "    return replaced_text\n",
        "\n",
        "def normalize_zen_to_han(text):\n",
        "    # 全角から半角に変換（カナは除く）\n",
        "    result = mojimoji.zen_to_han(text, kana=False)\n",
        "\n",
        "    # 半角カナから全角カナに変換\n",
        "    result = mojimoji.han_to_zen(result, ascii=False)\n",
        "\n",
        "    # 全ての文字を小文字に変換\n",
        "    result = result.lower()\n",
        "    \n",
        "    return result"
      ]
    },
    {
      "cell_type": "markdown",
      "metadata": {
        "id": "VcX84k_-HI9W"
      },
      "source": [
        "### idfの計算"
      ]
    },
    {
      "cell_type": "code",
      "execution_count": 7,
      "metadata": {
        "colab": {
          "base_uri": "https://localhost:8080/"
        },
        "id": "HEIWBYaLq7BM",
        "outputId": "3bd65961-9842-4790-93e0-1554404a3c76"
      },
      "outputs": [
        {
          "name": "stderr",
          "output_type": "stream",
          "text": [
            "/usr/local/lib/python3.7/dist-packages/sklearn/utils/deprecation.py:87: FutureWarning: Function get_feature_names is deprecated; get_feature_names is deprecated in 1.0 and will be removed in 1.2. Please use get_feature_names_out instead.\n",
            "  warnings.warn(msg, category=FutureWarning)\n"
          ]
        },
        {
          "name": "stdout",
          "output_type": "stream",
          "text": [
            "Creating word-idf dictionary for Training set...\n"
          ]
        }
      ],
      "source": [
        "tfv = TfidfVectorizer(dtype=np.float32)\n",
        "tfidfmatrix_traindata = tfv.fit_transform(df_merge['keitaiso'])\n",
        "featurenames = tfv.get_feature_names()\n",
        "idf = tfv._tfidf.idf_\n",
        "\n",
        "# Creating a dictionary with word mapped to its idf value \n",
        "print (\"Creating word-idf dictionary for Training set...\")\n",
        "\n",
        "word_idf_dict = {}\n",
        "for pair in zip(featurenames, idf):\n",
        "    word_idf_dict[pair[0]] = pair[1]"
      ]
    },
    {
      "cell_type": "markdown",
      "metadata": {
        "id": "i_XZA63bHdpB"
      },
      "source": [
        "### 学習済みのword2vecのmodelを読み込む"
      ]
    },
    {
      "cell_type": "code",
      "execution_count": 8,
      "metadata": {
        "colab": {
          "base_uri": "https://localhost:8080/"
        },
        "id": "tc2USoV6HfkZ",
        "outputId": "db40acbc-427e-4f95-9a4e-49b8be75df7d"
      },
      "outputs": [
        {
          "name": "stderr",
          "output_type": "stream",
          "text": [
            "/usr/local/lib/python3.7/dist-packages/ipykernel_launcher.py:4: DeprecationWarning: Call to deprecated `syn0` (Attribute will be removed in 4.0.0, use self.wv.vectors instead).\n",
            "  after removing the cwd from sys.path.\n"
          ]
        }
      ],
      "source": [
        "model = gensim.models.Word2Vec.load('ディレクトリを記載')\n",
        "# Get wordvectors for all words in vocabulary.\n",
        "word_vectors = model.wv.syn0"
      ]
    },
    {
      "cell_type": "markdown",
      "metadata": {
        "id": "VIn8Ntl1HnBR"
      },
      "source": [
        "### 各単語の事後確率を読み込み"
      ]
    },
    {
      "cell_type": "code",
      "execution_count": 20,
      "metadata": {
        "colab": {
          "base_uri": "https://localhost:8080/"
        },
        "id": "piyqmmjTHmxg",
        "outputId": "d3d360e1-a607-42eb-8c58-2de06fd70c63"
      },
      "outputs": [
        {
          "name": "stdout",
          "output_type": "stream",
          "text": [
            "Cluster Model Loaded...\n"
          ]
        }
      ],
      "source": [
        "idx = pickle.load(open('ディレクトリを記載'))\n",
        "idx_proba = pickle.load(open('ディレクトリを記載'))\n",
        "print (\"Cluster Model Loaded...\")\n",
        "\n",
        "# Create a Word / Index dictionary, mapping each vocabulary word to a cluster number\n",
        "word_centroid_map = dict(zip( model.wv.index2word, idx ))\n",
        "# Create a Word / Probability of cluster assignment dictionary, mapping each vocabulary word to list of probabilities of cluster assignments.\n",
        "word_centroid_prob_map = dict(zip( model.wv.index2word, idx_proba ))"
      ]
    },
    {
      "cell_type": "markdown",
      "metadata": {
        "id": "dBa3gxttI_V2"
      },
      "source": [
        "### get doc vec"
      ]
    },
    {
      "cell_type": "code",
      "execution_count": 21,
      "metadata": {
        "id": "iTcyE8p-JCw-"
      },
      "outputs": [],
      "source": [
        "# This function computes probability word-cluster vectors\n",
        "# model:w2v\n",
        "# word_centroid_prob_map:各クラスの事後確率\n",
        "# word_idf_dict:単語頻出度の逆数\n",
        "def get_probability_word_vectors(featurenames, word_centroid_map, num_clusters, word_idf_dict):\n",
        "    prob_wordvecs = {}\n",
        "    for word in word_centroid_map:\n",
        "        prob_wordvecs[word] = np.zeros( num_clusters * num_features, dtype=\"float32\" )\n",
        "        for index in range(0, num_clusters):\n",
        "            try:\n",
        "                prob_wordvecs[word][index*num_features:(index+1)*num_features] = model[word] * word_centroid_prob_map[word][index] * word_idf_dict[word]\n",
        "            except:\n",
        "                continue\n",
        "    return prob_wordvecs"
      ]
    },
    {
      "cell_type": "code",
      "execution_count": 22,
      "metadata": {
        "id": "zE1KSebyJGyw"
      },
      "outputs": [],
      "source": [
        "def create_cluster_vector_and_gwbowv(prob_wordvecs, wordlist, word_centroid_map, word_centroid_prob_map, dimension, word_idf_dict, featurenames, num_centroids):\n",
        "    # This function computes SDV feature vectors.\n",
        "    bag_of_centroids = np.zeros( num_centroids * dimension, dtype=\"float32\" )\n",
        "    global min_no\n",
        "    global max_no\n",
        "\n",
        "    for word in wordlist:\n",
        "        try:\n",
        "            temp = word_centroid_map[word] # ある単語のクラスラベルを返す\n",
        "        except:\n",
        "            continue\n",
        "\n",
        "        bag_of_centroids += prob_wordvecs[word] # ある単語のベクトルの和を返す\n",
        "\n",
        "    norm = np.sqrt(np.einsum('...i,...i', bag_of_centroids, bag_of_centroids))\n",
        "    if(norm!=0):\n",
        "        bag_of_centroids /= norm\n",
        "\n",
        "    # To make feature vector sparse, make note of minimum and maximum values.\n",
        "    min_no += min(bag_of_centroids)\n",
        "    max_no += max(bag_of_centroids)\n",
        "\n",
        "    return bag_of_centroids"
      ]
    },
    {
      "cell_type": "code",
      "execution_count": 23,
      "metadata": {
        "colab": {
          "base_uri": "https://localhost:8080/"
        },
        "id": "wQar-ZKirFsV",
        "outputId": "8c359329-5607-45fb-af36-88f4603e93f3"
      },
      "outputs": [
        {
          "name": "stderr",
          "output_type": "stream",
          "text": [
            "/usr/local/lib/python3.7/dist-packages/ipykernel_launcher.py:11: DeprecationWarning: Call to deprecated `__getitem__` (Method will be removed in 4.0.0, use self.wv.__getitem__() instead).\n",
            "  # This is added back by InteractiveShellApp.init_path()\n"
          ]
        }
      ],
      "source": [
        "# Pre-computing probability word-cluster vectors\n",
        "num_features = 200\n",
        "num_clusters = 60\n",
        "prob_wordvecs = get_probability_word_vectors(featurenames, word_centroid_map, num_clusters, word_idf_dict)"
      ]
    },
    {
      "cell_type": "markdown",
      "metadata": {
        "id": "9-8jVLpM65qz"
      },
      "source": [
        "### シルエット係数の実装"
      ]
    },
    {
      "cell_type": "code",
      "execution_count": null,
      "metadata": {
        "colab": {
          "base_uri": "https://localhost:8080/",
          "height": 295
        },
        "id": "pmYrZXojK_HQ",
        "outputId": "242043a5-c643-4dc8-fe01-0dbb2c897b05"
      },
      "outputs": [
        {
          "data": {
            "text/plain": [
              "Text(0.5, 0, 'Silhouette coefficient')"
            ]
          },
          "execution_count": 105,
          "metadata": {},
          "output_type": "execute_result"
        },
        {
          "data": {
            "image/png": "[encoded data removed]",
            "text/plain": [
              "<Figure size 432x288 with 1 Axes>"
            ]
          },
          "metadata": {},
          "output_type": "display_data"
        }
      ],
      "source": [
        "#nを指定して、表示\n",
        "km = KMeans(n_clusters=4,\n",
        "            init='k-means++',     \n",
        "            n_init=10,\n",
        "            max_iter=300,\n",
        "            random_state=0)\n",
        "\n",
        "# クラスタ分類→[2, 1, 0, 2, 3, 0, 2, 1, 1, 3]\n",
        "y_km = km.fit_predict(pref_silhhoette_XY)                         \n",
        "\n",
        "# クラスタの重複をなくす→[0, 1, 2, 3]\n",
        "cluster_labels = np.unique(y_km) \n",
        "\n",
        "# 配列の数：指定したクラスタ数→４\n",
        "n_clusters = cluster_labels.shape[0] \n",
        "\n",
        "#シルエット係数を計算(引数：サンプルデータ, クラスター番号、ユークリッド距離でシルエット係数計算)\n",
        "silhouette_vals = silhouette_samples(pref_silhhoette_XY,y_km,metric='euclidean')\n",
        "\n",
        "y_ax_lower, y_ax_upper = 0,0\n",
        "yticks = []\n",
        "for i,c in enumerate(cluster_labels):\n",
        "    c_silhouette_vals = silhouette_vals[y_km==c]\n",
        "    c_silhouette_vals.sort()\n",
        "    # サンプルの個数を足していく\n",
        "    y_ax_upper +=len(c_silhouette_vals)\n",
        "    # グラフ表示の色を作成\n",
        "    color=cm.jet(float(i)/n_clusters)\n",
        "    # 棒グラフを作成\n",
        "    plt.barh(range(y_ax_lower,y_ax_upper),\n",
        "        c_silhouette_vals,\n",
        "        height=1.0,\n",
        "        edgecolor='none',\n",
        "        color=color\n",
        "    )\n",
        "    # クラスタラベルの表示位置\n",
        "    yticks.append((y_ax_lower+y_ax_upper)/2.)\n",
        "    # 底辺の値に棒の幅を足していく\n",
        "    y_ax_lower += len(c_silhouette_vals)\n",
        "    \n",
        "#平均の位置に線を引く\n",
        "silhouette_avg=np.mean(silhouette_vals)\n",
        "plt.axvline(silhouette_avg,color=\"red\",linestyle=\"--\")\n",
        "plt.ylabel(\"Cluster\")\n",
        "plt.xlabel(\"Silhouette coefficient\")\n"
      ]
    },
    {
      "cell_type": "code",
      "execution_count": null,
      "metadata": {
        "colab": {
          "base_uri": "https://localhost:8080/"
        },
        "id": "JW89dMDR_27c",
        "outputId": "f3854342-46e0-4140-ca2d-4427a34372ab"
      },
      "outputs": [
        {
          "name": "stdout",
          "output_type": "stream",
          "text": [
            "4\n"
          ]
        }
      ],
      "source": [
        "class_data_list = []\n",
        "result_class_num = 0\n",
        "\n",
        "# 2〜データ個数の9割りまでクラスタ数を指定する,今回は2-6で調べる\n",
        "loop_num = 6 \n",
        "for class_num in range(2, loop_num):\n",
        "    # クラスタ分類\n",
        "    km = KMeans(n_clusters=class_num,\n",
        "            init='k-means++',     \n",
        "            n_init=10,\n",
        "            max_iter=300,\n",
        "            random_state=0)\n",
        "    y_km = km.fit_predict(pref_silhhoette_XY) \n",
        "    \n",
        "    cluster_labels = np.unique(y_km) \n",
        "\n",
        "    # 配列の数\n",
        "    n_clusters = cluster_labels.shape[0] \n",
        "\n",
        "    #シルエット係数を計算\n",
        "    silhouette_vals = silhouette_samples(pref_silhhoette_XY,y_km,metric='euclidean')\n",
        "    \n",
        "    # クラスタ内のデータ数\n",
        "    sil=[]\n",
        "    for i,c in enumerate(cluster_labels):\n",
        "        c_silhouette_vals=silhouette_vals[y_km==c]\n",
        "        sil.append(len(c_silhouette_vals))\n",
        "    \n",
        "    # クラスタ内のデータ数の差がデータ数の2割以下であれば分割できたとみなす\n",
        "    data_diff = int(len(pref_silhhoette_XY.index) * 0.2)\n",
        "    data_diff_flg = max(sil)-min(sil) < data_diff\n",
        "    # クラスタ内のシルエット係数平均値\n",
        "    ave_silhouette_vals = np.average(silhouette_vals)\n",
        "    \n",
        "    class_data_list.append({'class_num':class_num, 'data_diff':data_diff_flg, 'ave':ave_silhouette_vals})\n",
        "    \n",
        "        \n",
        "max_ave = 0\n",
        "for class_data in class_data_list:\n",
        "    if class_data['data_diff'] and (max_ave < class_data['ave']):\n",
        "        max_ave = class_data['ave']\n",
        "        result_class_num = class_data['class_num']\n",
        "        \n",
        "print(result_class_num)\n",
        "\n"
      ]
    },
    {
      "cell_type": "code",
      "execution_count": null,
      "metadata": {
        "colab": {
          "base_uri": "https://localhost:8080/",
          "height": 403
        },
        "id": "EqT7u5QgRaew",
        "outputId": "8e660e13-0722-447d-d2b5-c87a39cf52fa"
      },
      "outputs": [
        {
          "name": "stderr",
          "output_type": "stream",
          "text": [
            "*c* argument looks like a single numeric RGB or RGBA sequence, which should be avoided as value-mapping will have precedence in case its length matches with *x* & *y*.  Please use the *color* keyword-argument or provide a 2-D array with a single row if you intend to specify the same RGB or RGBA value for all points.\n",
            "*c* argument looks like a single numeric RGB or RGBA sequence, which should be avoided as value-mapping will have precedence in case its length matches with *x* & *y*.  Please use the *color* keyword-argument or provide a 2-D array with a single row if you intend to specify the same RGB or RGBA value for all points.\n",
            "*c* argument looks like a single numeric RGB or RGBA sequence, which should be avoided as value-mapping will have precedence in case its length matches with *x* & *y*.  Please use the *color* keyword-argument or provide a 2-D array with a single row if you intend to specify the same RGB or RGBA value for all points.\n",
            "*c* argument looks like a single numeric RGB or RGBA sequence, which should be avoided as value-mapping will have precedence in case its length matches with *x* & *y*.  Please use the *color* keyword-argument or provide a 2-D array with a single row if you intend to specify the same RGB or RGBA value for all points.\n"
          ]
        },
        {
          "data": {
            "image/png": "[encoded data removed]",
            "text/plain": [
              "<Figure size 576x288 with 1 Axes>"
            ]
          },
          "metadata": {},
          "output_type": "display_data"
        }
      ],
      "source": [
        "# 決定境界プロット関数\n",
        "def plot_decision_regions(x, y, model, resolution=0.01):\n",
        "\n",
        "    ## 今回は被説明変数が3クラスのため散布図のマーカータイプと3種類の色を用意\n",
        "    ## クラスの種類数に応じて拡張していくのが良いでしょう\n",
        "    # markers = ('s', 'x', 'o')\n",
        "    # cmap = ListedColormap(('red', 'blue', 'green'))\n",
        "    markers = ('s', 'x', 'o', '^')\n",
        "    cmap = ListedColormap(('red', 'blue', 'green','yellow'))\n",
        "\n",
        "    ## 2変数の入力データの最小値から最大値まで引数resolutionの幅でメッシュを描く\n",
        "    x1_min, x1_max = x[:, 0].min()-1, x[:, 0].max()+1\n",
        "    x2_min, x2_max = x[:, 1].min()-1, x[:, 1].max()+1\n",
        "    x1_mesh, x2_mesh = np.meshgrid(np.arange(x1_min, x1_max, resolution),\n",
        "                                   np.arange(x2_min, x2_max, resolution))\n",
        "\n",
        "    ## メッシュデータ全部を学習モデルで分類\n",
        "    z = model.predict(np.array([x1_mesh.ravel(), x2_mesh.ravel()]).T)\n",
        "    z = z.reshape(x1_mesh.shape)\n",
        "\n",
        "    ## メッシュデータと分離クラスを使って決定境界を描いている\n",
        "    plt.contourf(x1_mesh, x2_mesh, z, alpha=0.4, cmap=cmap)\n",
        "    plt.xlim(x1_mesh.min(), x1_mesh.max())\n",
        "    plt.ylim(x2_mesh.min(), x2_mesh.max())\n",
        "\n",
        "    for idx, cl in enumerate(np.unique(y)):\n",
        "        plt.scatter(x=x[y == cl, 0],\n",
        "                    y=x[y == cl, 1],\n",
        "                    alpha=0.6,\n",
        "                    c=cmap(idx),\n",
        "                    edgecolors='black',\n",
        "                    #marker=markers[idx],\n",
        "                    label=cl)\n",
        "\n",
        "#\n",
        "# データの取得\n",
        "#\n",
        "a = list(pref['x']/100)\n",
        "b = list(pref['y']/100)\n",
        "D = list()\n",
        "for i in range(0,len(a)):\n",
        "  d = np.array(list(zip(a,b))[i])\n",
        "  D.append(d)\n",
        "  E = np.array(D)\n",
        "\n",
        "data = E\n",
        "x_data = data.data\n",
        "y_data = np.array(pref['cluster_label'])\n",
        "#y_data = data.target\n",
        "\n",
        "\n",
        "# 2変数だけを抽出\n",
        "# x_data = x_data[:, [0,1]]\n",
        "\n",
        "# 入力データの各変数が平均0,標準偏差1になるように正規化\n",
        "# 各アルゴリズムのプロット結果を比較しやすいように予め全入力データを正規化\n",
        "sc = StandardScaler()\n",
        "sc.fit(x_data)\n",
        "x_data = sc.transform(x_data)\n",
        "\n",
        "\n",
        "# データを学習用/テスト用に分割している\n",
        "x_train, x_test, y_train, y_test = train_test_split(x_data,\n",
        "                                                    y_data,\n",
        "                                                    test_size=0.2)\n",
        "\n",
        "#\n",
        "# 機械学習アルゴリズムの定義\n",
        "#\n",
        "lr = LogisticRegression(C=10)\n",
        "# knn = KNeighborsClassifier(n_neighbors=5)\n",
        "# svm = SVC(kernel='rbf', C=1.0)\n",
        "# dc = DecisionTreeClassifier(criterion='entropy', max_depth=3)\n",
        "# rf = RandomForestClassifier(criterion='entropy',\n",
        "#                             n_estimators=10)\n",
        "\n",
        "# models = [lr, knn, svm, dc, rf]\n",
        "# model_names = ['logistic regression',\n",
        "#                'k nearest neighbor',\n",
        "#                'svm',\n",
        "#                'decision tree',\n",
        "#                'random forest']\n",
        "models = [lr]\n",
        "model_names = ['logistic regression']\n",
        "\n",
        "#\n",
        "# それぞれのモデルにおいて決定境界をプロット\n",
        "#\n",
        "# plt.figure(figsize=(8,6))\n",
        "plt.figure(figsize=(8,4))\n",
        "plot_num = 1\n",
        "for model_name, model in zip(model_names, models):\n",
        "\n",
        "    plt.subplot(math.ceil(len(models)/2), 2, plot_num)\n",
        "    # モデルの学習\n",
        "    model.fit(x_train, y_train)\n",
        "    # 決定境界をプロット\n",
        "    plot_decision_regions(x_data, y_data, model)\n",
        "    #plt.title(model_name)\n",
        "    plot_num += 1\n",
        "\n",
        "plt.tight_layout()\n",
        "#plt.savefig('./images/decision_region.png')\n",
        "sns.scatterplot(x='x', y='y', hue='PV_22apr',data = pref_22_5XYstd, palette='bright')\n",
        "plt.show()"
      ]
    },
    {
      "cell_type": "markdown",
      "metadata": {
        "id": "BPK5ozad1ex5"
      },
      "source": [
        "### 比較的実用的な実装"
      ]
    },
    {
      "cell_type": "code",
      "execution_count": null,
      "metadata": {
        "colab": {
          "base_uri": "https://localhost:8080/"
        },
        "id": "0JDNX_BJ6zst",
        "outputId": "c708f790-740e-4e83-8d03-3b70e317696a"
      },
      "outputs": [
        {
          "name": "stdout",
          "output_type": "stream",
          "text": [
            "都道府県(語尾に都道府県を付ける):愛知県\n"
          ]
        }
      ],
      "source": [
        "state = input('都道府県(語尾に都道府県を付ける):')"
      ]
    },
    {
      "cell_type": "code",
      "execution_count": null,
      "metadata": {
        "colab": {
          "base_uri": "https://localhost:8080/",
          "height": 328
        },
        "id": "MdbH1nqBxOoi",
        "outputId": "face6a88-03c7-4921-86e9-4368f26a5cd0"
      },
      "outputs": [
        {
          "name": "stdout",
          "output_type": "stream",
          "text": [
            "クラスター数は2です\n"
          ]
        },
        {
          "data": {
            "image/png": "[encoded data removed]",
            "text/plain": [
              "<Figure size 576x288 with 1 Axes>"
            ]
          },
          "metadata": {},
          "output_type": "display_data"
        }
      ],
      "source": [
        "#1つのカラムで、決定境界と散布図を表示できるように整える\n",
        "#prefで、必要なデータがとってこれたとする。\n",
        "matplotlib_axes_logger.setLevel('ERROR') #警告文の回避\n",
        "\n",
        "pref = df_job.query('rc_pref == @state') \n",
        "pref_22_5 = pref #.query('5.0<=PV_22apr<=14.0') #10種類以下になるようにqueryする\n",
        "\n",
        "pref_22_5_xy= pref_22_5[['x','y']]\n",
        "\n",
        "scaler = StandardScaler()\n",
        "scaler.fit(pref_22_5_xy)\n",
        "scaler.transform(pref_22_5_xy)\n",
        "pref_22_5_std = pd.DataFrame(scaler.transform(pref_22_5_xy), columns=pref_22_5_xy.columns)\n",
        "\n",
        "pref_22_5 = pref_22_5.drop(['x','y'],axis = 1)\n",
        "pref_22_5 = pref_22_5.reset_index()\n",
        "pref_22_5XYstd = pd.concat([pref_22_5, pref_22_5_std], axis=1)\n",
        "\n",
        "pref = pref_22_5XYstd\n",
        "\n",
        "pref_silhhoette_XY = pref[['x','y']]\n",
        "\n",
        "class_data_list = []\n",
        "result_class_num = 0\n",
        "\n",
        "# 2〜データ個数の9割りまでクラスタ数を指定する,今回は2-6で調べる\n",
        "loop_num = 6 \n",
        "for class_num in range(2, loop_num):\n",
        "    # クラスタ分類\n",
        "    km = KMeans(n_clusters=class_num,\n",
        "            init='k-means++',     \n",
        "            n_init=10,\n",
        "            max_iter=300,\n",
        "            random_state=0)\n",
        "    y_km = km.fit_predict(pref_silhhoette_XY) \n",
        "    \n",
        "    cluster_labels = np.unique(y_km) \n",
        "\n",
        "    # 配列の数\n",
        "    n_clusters = cluster_labels.shape[0] \n",
        "\n",
        "    #シルエット係数を計算\n",
        "    silhouette_vals = silhouette_samples(pref_silhhoette_XY,y_km,metric='euclidean')\n",
        "    \n",
        "    # クラスタ内のデータ数\n",
        "    sil=[]\n",
        "    for i,c in enumerate(cluster_labels):\n",
        "        c_silhouette_vals=silhouette_vals[y_km==c]\n",
        "        sil.append(len(c_silhouette_vals))\n",
        "    \n",
        "    # クラスタ内のデータ数の差がデータ数の2割以下であれば分割できたとみなす\n",
        "    data_diff = int(len(pref_silhhoette_XY.index) * 0.2)\n",
        "    data_diff_flg = max(sil)-min(sil) < data_diff\n",
        "    # クラスタ内のシルエット係数平均値\n",
        "    ave_silhouette_vals = np.average(silhouette_vals)\n",
        "    \n",
        "    class_data_list.append({'class_num':class_num, 'data_diff':data_diff_flg, 'ave':ave_silhouette_vals})\n",
        "    \n",
        "        \n",
        "max_ave = 0\n",
        "for class_data in class_data_list:\n",
        "    if class_data['data_diff'] and (max_ave < class_data['ave']):\n",
        "        max_ave = class_data['ave']\n",
        "        result_class_num = class_data['class_num']\n",
        "        \n",
        "print('クラスター数は{}です'.format(result_class_num))\n",
        "\n",
        "#ラベルの取得\n",
        "from sklearn.mixture import GaussianMixture\n",
        "import time\n",
        "\n",
        "num_clusters = result_class_num # 自分で適当な値に指定する\n",
        "\n",
        "# Fit a Gaussian mixture with EM\n",
        "# 各クラスタが等分散構造\n",
        "clf =  GaussianMixture(n_components = num_clusters,\n",
        "                       covariance_type = 'diag',\n",
        "                       init_params = 'kmeans',\n",
        "                       max_iter = 50,\n",
        "                       random_state = 1)\n",
        "# Get cluster assignments.\n",
        "clf.fit(pref.loc[:,['x','y']])\n",
        "label = clf.predict(pref.loc[:,['x','y']]) # 予測ラベル\n",
        "#print(clf.bic(pref.loc[:,['x','y']]))\n",
        "pref['cluster_label'] = label\n",
        "pref['cluster_label'] = pref['cluster_label'].astype(str)\n",
        "\n",
        "# 決定境界プロット関数\n",
        "def plot_decision_regions(x, y, model, resolution=0.01):\n",
        "\n",
        "    ## 今回は被説明変数が3クラスのため散布図のマーカータイプと3種類の色を用意\n",
        "    ## クラスの種類数に応じて拡張していくのが良いでしょう\n",
        "    # markers = ('s', 'x', 'o')\n",
        "    # cmap = ListedColormap(('red', 'blue', 'green'))\n",
        "    #クラスター数に対するマーカーの場合分け\n",
        "    if result_class_num == 2:\n",
        "      markers = ('s', 'x')\n",
        "      cmap = ListedColormap(('red', 'blue'))\n",
        "    if result_class_num == 3:\n",
        "      markers = ('s', 'x', 'o', '^')\n",
        "      cmap = ListedColormap(('red', 'blue', 'green','yellow'))\n",
        "    if result_class_num == 4:\n",
        "      markers = ('s', 'x', 'o', '^')\n",
        "      cmap = ListedColormap(('red', 'blue', 'green','yellow'))\n",
        "    if result_class_num == 4:\n",
        "      markers = ('s', 'x', 'o', '^')\n",
        "      cmap = ListedColormap(('red', 'blue', 'green','yellow'))\n",
        "    if result_class_num == 5:\n",
        "      markers = ('s', 'x', 'o', '^','m')\n",
        "      cmap = ListedColormap(('red', 'blue', 'green','yellow','magenta'))\n",
        "    if result_class_num == 5:\n",
        "      markers = ('s', 'x', 'o', '^','m','c')\n",
        "      cmap = ListedColormap(('red', 'blue', 'green','yellow','magenta',\t'cyan'))\n",
        "\n",
        "    ## 2変数の入力データの最小値から最大値まで引数resolutionの幅でメッシュを描く\n",
        "    x1_min, x1_max = x[:, 0].min()-1, x[:, 0].max()+1\n",
        "    x2_min, x2_max = x[:, 1].min()-1, x[:, 1].max()+1\n",
        "    x1_mesh, x2_mesh = np.meshgrid(np.arange(x1_min, x1_max, resolution),\n",
        "                                   np.arange(x2_min, x2_max, resolution))\n",
        "\n",
        "    ## メッシュデータ全部を学習モデルで分類\n",
        "    z = model.predict(np.array([x1_mesh.ravel(), x2_mesh.ravel()]).T)\n",
        "    z = z.reshape(x1_mesh.shape)\n",
        "\n",
        "    ## メッシュデータと分離クラスを使って決定境界を描いている\n",
        "    plt.contourf(x1_mesh, x2_mesh, z, alpha=0.4, cmap=cmap)\n",
        "    plt.xlim(x1_mesh.min(), x1_mesh.max())\n",
        "    plt.ylim(x2_mesh.min(), x2_mesh.max())\n",
        "\n",
        "    for idx, cl in enumerate(np.unique(y)):\n",
        "        plt.scatter(x=x[y == cl, 0],\n",
        "                    y=x[y == cl, 1],\n",
        "                    alpha=0.6,\n",
        "                    c=cmap(idx),\n",
        "                    edgecolors='black',\n",
        "                    #marker=markers[idx],\n",
        "                    label=cl)\n",
        "\n",
        "#\n",
        "# データの取得\n",
        "#\n",
        "a = list(pref['x']/100)\n",
        "b = list(pref['y']/100)\n",
        "D = list()\n",
        "for i in range(0,len(a)):\n",
        "  d = np.array(list(zip(a,b))[i])\n",
        "  D.append(d)\n",
        "  E = np.array(D)\n",
        "\n",
        "data = E\n",
        "x_data = data.data\n",
        "y_data = np.array(pref['cluster_label'])\n",
        "#y_data = data.target\n",
        "\n",
        "\n",
        "# 2変数だけを抽出\n",
        "# x_data = x_data[:, [0,1]]\n",
        "\n",
        "# 入力データの各変数が平均0,標準偏差1になるように正規化\n",
        "# 各アルゴリズムのプロット結果を比較しやすいように予め全入力データを正規化\n",
        "sc = StandardScaler()\n",
        "sc.fit(x_data)\n",
        "x_data = sc.transform(x_data)\n",
        "\n",
        "\n",
        "# データを学習用/テスト用に分割している\n",
        "x_train, x_test, y_train, y_test = train_test_split(x_data,\n",
        "                                                    y_data,\n",
        "                                                    test_size=0.2)\n",
        "\n",
        "#\n",
        "# 機械学習アルゴリズムの定義\n",
        "#\n",
        "lr = LogisticRegression(C=10)\n",
        "# knn = KNeighborsClassifier(n_neighbors=5)\n",
        "# svm = SVC(kernel='rbf', C=1.0)\n",
        "# dc = DecisionTreeClassifier(criterion='entropy', max_depth=3)\n",
        "# rf = RandomForestClassifier(criterion='entropy',\n",
        "#                             n_estimators=10)\n",
        "\n",
        "# models = [lr, knn, svm, dc, rf]\n",
        "# model_names = ['logistic regression',\n",
        "#                'k nearest neighbor',\n",
        "#                'svm',\n",
        "#                'decision tree',\n",
        "#                'random forest']\n",
        "models = [lr]\n",
        "model_names = ['logistic regression']\n",
        "\n",
        "#\n",
        "# それぞれのモデルにおいて決定境界をプロット\n",
        "#\n",
        "# plt.figure(figsize=(8,6))\n",
        "plt.figure(figsize=(8,4))\n",
        "plot_num = 1\n",
        "for model_name, model in zip(model_names, models):\n",
        "\n",
        "    plt.subplot(math.ceil(len(models)/2), 2, plot_num)\n",
        "    # モデルの学習\n",
        "    model.fit(x_train, y_train)\n",
        "    # 決定境界をプロット\n",
        "    plot_decision_regions(x_data, y_data, model)\n",
        "    #plt.title(model_name)\n",
        "    plot_num += 1\n",
        "\n",
        "plt.tight_layout()\n",
        "#plt.savefig('./images/decision_region.png')\n",
        "sns.scatterplot(x='x', y='y', hue='PV_22may',data = pref_22_5XYstd,palette='bright')\n",
        "plt.show()"
      ]
    },
    {
      "cell_type": "code",
      "execution_count": null,
      "metadata": {
        "colab": {
          "base_uri": "https://localhost:8080/",
          "height": 328
        },
        "id": "XgBBveYa-fKy",
        "outputId": "9a6c2bc6-46be-4a63-f03b-f27b969aa35f"
      },
      "outputs": [
        {
          "name": "stdout",
          "output_type": "stream",
          "text": [
            "クラスター数は2です\n"
          ]
        },
        {
          "data": {
            "image/png": "[encoded data removed]",
            "text/plain": [
              "<Figure size 576x288 with 1 Axes>"
            ]
          },
          "metadata": {},
          "output_type": "display_data"
        }
      ],
      "source": [
        "#1つのカラムで、決定境界と散布図を表示できるように整える\n",
        "#prefで、必要なデータがとってこれたとする。\n",
        "matplotlib_axes_logger.setLevel('ERROR') #警告文の回避\n",
        "\n",
        "pref = df_job.query('rc_pref == @state') \n",
        "pref_22_5 = pref #.query('5.0<=PV_22apr<=14.0') #10種類以下になるようにqueryする\n",
        "\n",
        "pref_22_5_xy= pref_22_5[['x','y']]\n",
        "\n",
        "scaler = StandardScaler()\n",
        "scaler.fit(pref_22_5_xy)\n",
        "scaler.transform(pref_22_5_xy)\n",
        "pref_22_5_std = pd.DataFrame(scaler.transform(pref_22_5_xy), columns=pref_22_5_xy.columns)\n",
        "\n",
        "pref_22_5 = pref_22_5.drop(['x','y'],axis = 1)\n",
        "pref_22_5 = pref_22_5.reset_index()\n",
        "pref_22_5XYstd = pd.concat([pref_22_5, pref_22_5_std], axis=1)\n",
        "\n",
        "pref = pref_22_5XYstd\n",
        "\n",
        "pref_silhhoette_XY = pref[['x','y']]\n",
        "\n",
        "class_data_list = []\n",
        "result_class_num = 0\n",
        "\n",
        "# 2〜データ個数の9割りまでクラスタ数を指定する,今回は2-6で調べる\n",
        "loop_num = 6 \n",
        "for class_num in range(2, loop_num):\n",
        "    # クラスタ分類\n",
        "    km = KMeans(n_clusters=class_num,\n",
        "            init='k-means++',     \n",
        "            n_init=10,\n",
        "            max_iter=300,\n",
        "            random_state=0)\n",
        "    y_km = km.fit_predict(pref_silhhoette_XY) \n",
        "    \n",
        "    cluster_labels = np.unique(y_km) \n",
        "\n",
        "    # 配列の数\n",
        "    n_clusters = cluster_labels.shape[0] \n",
        "\n",
        "    #シルエット係数を計算\n",
        "    silhouette_vals = silhouette_samples(pref_silhhoette_XY,y_km,metric='euclidean')\n",
        "    \n",
        "    # クラスタ内のデータ数\n",
        "    sil=[]\n",
        "    for i,c in enumerate(cluster_labels):\n",
        "        c_silhouette_vals=silhouette_vals[y_km==c]\n",
        "        sil.append(len(c_silhouette_vals))\n",
        "    \n",
        "    # クラスタ内のデータ数の差がデータ数の2割以下であれば分割できたとみなす\n",
        "    data_diff = int(len(pref_silhhoette_XY.index) * 0.2)\n",
        "    data_diff_flg = max(sil)-min(sil) < data_diff\n",
        "    # クラスタ内のシルエット係数平均値\n",
        "    ave_silhouette_vals = np.average(silhouette_vals)\n",
        "    \n",
        "    class_data_list.append({'class_num':class_num, 'data_diff':data_diff_flg, 'ave':ave_silhouette_vals})\n",
        "    \n",
        "        \n",
        "max_ave = 0\n",
        "for class_data in class_data_list:\n",
        "    if class_data['data_diff'] and (max_ave < class_data['ave']):\n",
        "        max_ave = class_data['ave']\n",
        "        result_class_num = class_data['class_num']\n",
        "        \n",
        "print('クラスター数は{}です'.format(result_class_num))\n",
        "\n",
        "#ラベルの取得\n",
        "from sklearn.mixture import GaussianMixture\n",
        "import time\n",
        "\n",
        "num_clusters = result_class_num # 自分で適当な値に指定する\n",
        "\n",
        "# Fit a Gaussian mixture with EM\n",
        "# 各クラスタが等分散構造\n",
        "clf =  GaussianMixture(n_components = num_clusters,\n",
        "                       covariance_type = 'diag',\n",
        "                       init_params = 'kmeans',\n",
        "                       max_iter = 50,\n",
        "                       random_state = 1)\n",
        "# Get cluster assignments.\n",
        "clf.fit(pref.loc[:,['x','y']])\n",
        "label = clf.predict(pref.loc[:,['x','y']]) # 予測ラベル\n",
        "#print(clf.bic(pref.loc[:,['x','y']]))\n",
        "pref['cluster_label'] = label\n",
        "pref['cluster_label'] = pref['cluster_label'].astype(str)\n",
        "\n",
        "#ここまでで、クラスターラベルの取得\n",
        "\n",
        "# 決定境界プロット関数\n",
        "def plot_decision_regions(x, y, model, resolution=0.01):\n",
        "\n",
        "    ## 今回は被説明変数が3クラスのため散布図のマーカータイプと3種類の色を用意\n",
        "    ## クラスの種類数に応じて拡張していくのが良いでしょう\n",
        "    # markers = ('s', 'x', 'o')\n",
        "    # cmap = ListedColormap(('red', 'blue', 'green'))\n",
        "    #クラスター数に対するマーカーの場合分け\n",
        "    if result_class_num == 2:\n",
        "      markers = ('s', 'x')\n",
        "      cmap = ListedColormap(('red', 'blue'))\n",
        "    if result_class_num == 3:\n",
        "      markers = ('s', 'x', 'o', '^')\n",
        "      cmap = ListedColormap(('red', 'blue', 'green','yellow'))\n",
        "    if result_class_num == 4:\n",
        "      markers = ('s', 'x', 'o', '^')\n",
        "      cmap = ListedColormap(('red', 'blue', 'green','yellow'))\n",
        "    if result_class_num == 4:\n",
        "      markers = ('s', 'x', 'o', '^')\n",
        "      cmap = ListedColormap(('red', 'blue', 'green','yellow'))\n",
        "    if result_class_num == 5:\n",
        "      markers = ('s', 'x', 'o', '^','m')\n",
        "      cmap = ListedColormap(('red', 'blue', 'green','yellow','magenta'))\n",
        "    if result_class_num == 5:\n",
        "      markers = ('s', 'x', 'o', '^','m','c')\n",
        "      cmap = ListedColormap(('red', 'blue', 'green','yellow','magenta',\t'cyan'))\n",
        "\n",
        "    ## 2変数の入力データの最小値から最大値まで引数resolutionの幅でメッシュを描く\n",
        "    x1_min, x1_max = x[:, 0].min()-1, x[:, 0].max()+1\n",
        "    x2_min, x2_max = x[:, 1].min()-1, x[:, 1].max()+1\n",
        "    x1_mesh, x2_mesh = np.meshgrid(np.arange(x1_min, x1_max, resolution),\n",
        "                                   np.arange(x2_min, x2_max, resolution))\n",
        "\n",
        "    ## メッシュデータ全部を学習モデルで分類\n",
        "    z = model.predict(np.array([x1_mesh.ravel(), x2_mesh.ravel()]).T)\n",
        "    z = z.reshape(x1_mesh.shape)\n",
        "\n",
        "    ## メッシュデータと分離クラスを使って決定境界を描いている\n",
        "    plt.contourf(x1_mesh, x2_mesh, z, alpha=0.4, cmap=cmap)\n",
        "    plt.xlim(x1_mesh.min(), x1_mesh.max())\n",
        "    plt.ylim(x2_mesh.min(), x2_mesh.max())\n",
        "\n",
        "    for idx, cl in enumerate(np.unique(y)):\n",
        "        plt.scatter(x=x[y == cl, 0],\n",
        "                    y=x[y == cl, 1],\n",
        "                    alpha=0.6,\n",
        "                    c=cmap(idx),\n",
        "                    edgecolors='black',\n",
        "                    #marker=markers[idx],\n",
        "                    label=cl)\n",
        "\n",
        "#\n",
        "# データの取得\n",
        "#\n",
        "a = list(pref['x']/100)\n",
        "b = list(pref['y']/100)\n",
        "D = list()\n",
        "for i in range(0,len(a)):\n",
        "  d = np.array(list(zip(a,b))[i])\n",
        "  D.append(d)\n",
        "  E = np.array(D)\n",
        "\n",
        "data = E\n",
        "x_data = data.data\n",
        "y_data = np.array(pref['cluster_label'])\n",
        "#y_data = data.target\n",
        "\n",
        "\n",
        "# 2変数だけを抽出\n",
        "# x_data = x_data[:, [0,1]]\n",
        "\n",
        "# 入力データの各変数が平均0,標準偏差1になるように正規化\n",
        "# 各アルゴリズムのプロット結果を比較しやすいように予め全入力データを正規化\n",
        "sc = StandardScaler()\n",
        "sc.fit(x_data)\n",
        "x_data = sc.transform(x_data)\n",
        "\n",
        "\n",
        "# データを学習用/テスト用に分割している\n",
        "x_train, x_test, y_train, y_test = train_test_split(x_data,\n",
        "                                                    y_data,\n",
        "                                                    test_size=0.2)\n",
        "\n",
        "#\n",
        "# 機械学習アルゴリズムの定義\n",
        "#\n",
        "lr = LogisticRegression(C=10)\n",
        "# knn = KNeighborsClassifier(n_neighbors=5)\n",
        "# svm = SVC(kernel='rbf', C=1.0)\n",
        "# dc = DecisionTreeClassifier(criterion='entropy', max_depth=3)\n",
        "# rf = RandomForestClassifier(criterion='entropy',\n",
        "#                             n_estimators=10)\n",
        "\n",
        "# models = [lr, knn, svm, dc, rf]\n",
        "# model_names = ['logistic regression',\n",
        "#                'k nearest neighbor',\n",
        "#                'svm',\n",
        "#                'decision tree',\n",
        "#                'random forest']\n",
        "models = [lr]\n",
        "model_names = ['logistic regression']\n",
        "\n",
        "#\n",
        "# それぞれのモデルにおいて決定境界をプロット\n",
        "#\n",
        "# plt.figure(figsize=(8,6))\n",
        "plt.figure(figsize=(8,4))\n",
        "plot_num = 1\n",
        "for model_name, model in zip(model_names, models):\n",
        "\n",
        "    plt.subplot(math.ceil(len(models)/2), 2, plot_num)\n",
        "    # モデルの学習\n",
        "    model.fit(x_train, y_train)\n",
        "    # 決定境界をプロット\n",
        "    plot_decision_regions(x_data, y_data, model)\n",
        "    #plt.title(model_name)\n",
        "    plot_num += 1\n",
        "\n",
        "plt.tight_layout()\n",
        "#plt.savefig('./images/decision_region.png')\n",
        "sns.scatterplot(x='x', y='y', hue='PV_22jun',data = pref_22_5XYstd,palette='bright')\n",
        "plt.show()"
      ]
    },
    {
      "cell_type": "markdown",
      "metadata": {},
      "source": [
        "### 単語間比較"
      ]
    },
    {
      "cell_type": "code",
      "execution_count": null,
      "metadata": {
        "colab": {
          "base_uri": "https://localhost:8080/"
        },
        "id": "gR0Hpm8-ioXT",
        "outputId": "a0659ce7-3a69-40b6-e7dc-e8bd1c8c647f"
      },
      "outputs": [
        {
          "name": "stdout",
          "output_type": "stream",
          "text": [
            "5月 クラスター 0 保育士 1.9402985074626866\n",
            "6月 クラスター 0 保育士 1.3880597014925373\n",
            "5月 クラスター 1 保育士 2.0\n",
            "6月 クラスター 1 保育士 1.3174603174603174\n"
          ]
        }
      ],
      "source": [
        "for i in range(0,result_class_num):\n",
        "  a = str(i)\n",
        "  pref_clas0 = pref[pref['cluster_label'] == a].reset_index()\n",
        "  count1 = 0\n",
        "  count2 = 0\n",
        "  PV_22may_sw1 = 0\n",
        "  PV_22jun_sw1 = 0\n",
        "  PV_22may_sw2 = 0\n",
        "  PV_22jun_sw2 = 0\n",
        "  try:\n",
        "    for i in range(0,len(pref_clas0)):\n",
        "      if sw1 in pref_clas0['rc_jobtitile'][i]:\n",
        "        PV_22may_sw1 += pref_clas0['PV_22may'][i]\n",
        "        PV_22jun_sw1 += pref_clas0['PV_22jun'][i]\n",
        "        count1+=1\n",
        "      else:\n",
        "        pass\n",
        "      if sw2 in pref_clas0['rc_jobtitile'][i]:\n",
        "        PV_22may_sw2 += pref_clas0['PV_22may'][i]\n",
        "        PV_22jun_sw2 += pref_clas0['PV_22jun'][i]\n",
        "        count2+=1\n",
        "      else:\n",
        "        pass\n",
        "    dic_may = {sw1:PV_22may_sw1/count1,sw2:PV_22may_sw2/count2}\n",
        "    dic_jun = {sw1:PV_22jun_sw1/count1,sw2:PV_22jun_sw2/count2}\n",
        "    print('5月','クラスター',a,max(dic_may.keys()),max(dic_may.values()))\n",
        "    print('6月','クラスター',a,max(dic_jun.keys()),max(dic_jun.values()))\n",
        "  except:\n",
        "    print('クラスター',a,'に',(sw1,sw2),'の単語ペアはありません')"
      ]
    },
    {
      "cell_type": "code",
      "execution_count": null,
      "metadata": {
        "colab": {
          "base_uri": "https://localhost:8080/"
        },
        "id": "BYYqcheLprNL",
        "outputId": "1eed8814-1a07-4dd7-94b6-9ca67a6c10a0"
      },
      "outputs": [
        {
          "name": "stdout",
          "output_type": "stream",
          "text": [
            "保育\n",
            "保育士\n"
          ]
        }
      ],
      "source": [
        "sw1 = input('')\n",
        "sw2 = input('')"
      ]
    },
    {
      "cell_type": "code",
      "execution_count": null,
      "metadata": {
        "colab": {
          "base_uri": "https://localhost:8080/"
        },
        "id": "DcD-xj6BpYGh",
        "outputId": "3727bf1b-4238-4fd2-f480-ebea3d046eb1"
      },
      "outputs": [
        {
          "name": "stdout",
          "output_type": "stream",
          "text": [
            "5月 クラスター 0 保育士 0.0\n",
            "6月 クラスター 0 保育士 0.0\n",
            "5月 クラスター 1 保育士 0.015873015873015872\n",
            "6月 クラスター 1 保育士 0.0\n"
          ]
        }
      ],
      "source": [
        "for i in range(0,result_class_num):\n",
        "  a = str(i)\n",
        "  pref_clas0 = pref[pref['cluster_label'] == a].reset_index()\n",
        "  count1 = 0\n",
        "  count2 = 0\n",
        "  CV_22may_sw1 = 0\n",
        "  CV_22jun_sw1 = 0\n",
        "  CV_22may_sw2 = 0\n",
        "  CV_22jun_sw2 = 0\n",
        "  try:\n",
        "    for i in range(0,len(pref_clas0)):\n",
        "      if sw1 in pref_clas0['rc_jobtitile'][i]:\n",
        "        CV_22may_sw1 += pref_clas0['CV_22may'][i]\n",
        "        CV_22jun_sw1 += pref_clas0['CV_22jun'][i]\n",
        "        count1+=1\n",
        "      else:\n",
        "        pass\n",
        "      if sw2 in pref_clas0['rc_jobtitile'][i]:\n",
        "        CV_22may_sw2 += pref_clas0['CV_22may'][i]\n",
        "        CV_22jun_sw2 += pref_clas0['CV_22jun'][i]\n",
        "        count2+=1\n",
        "      else:\n",
        "        pass\n",
        "    dic_may = {sw1:CV_22may_sw1/count1,sw2:CV_22may_sw2/count2}\n",
        "    dic_jun = {sw1:CV_22jun_sw1/count1,sw2:CV_22jun_sw2/count2}\n",
        "    print('5月','クラスター',a,max(dic_may.keys()),max(dic_may.values()))\n",
        "    print('6月','クラスター',a,max(dic_jun.keys()),max(dic_jun.values()))\n",
        "  except:\n",
        "    print('クラスター',a,'に',(sw1,sw2),'の単語ペアはありません')"
      ]
    },
    {
      "cell_type": "code",
      "execution_count": null,
      "metadata": {
        "colab": {
          "base_uri": "https://localhost:8080/"
        },
        "id": "Ufn_ErJP5tYg",
        "outputId": "567fb13d-d7e6-4284-ed76-759b69575d8c"
      },
      "outputs": [
        {
          "name": "stdout",
          "output_type": "stream",
          "text": [
            "保育士 1.9402985074626866\n",
            "保育士 1.3880597014925373\n"
          ]
        }
      ],
      "source": [
        "#PV調べ\n",
        "pref_clas0 = pref[pref['cluster_label'] == str(0)].reset_index()\n",
        "count1 = 0\n",
        "count2 = 0\n",
        "PV_22may_sw1 = 0\n",
        "PV_22jun_sw1 = 0\n",
        "PV_22may_sw2 = 0\n",
        "PV_22jun_sw2 = 0\n",
        "try:\n",
        "  for i in range(0,len(pref_clas0)):\n",
        "    if sw1 in pref_clas0['rc_jobtitile'][i]:\n",
        "      PV_22may_sw1 += pref_clas0['PV_22may'][i]\n",
        "      PV_22jun_sw1 += pref_clas0['PV_22jun'][i]\n",
        "      count1+=1\n",
        "    else:\n",
        "      pass\n",
        "    if sw2 in pref_clas0['rc_jobtitile'][i]:\n",
        "      PV_22may_sw2 += pref_clas0['PV_22may'][i]\n",
        "      PV_22jun_sw2 += pref_clas0['PV_22jun'][i]\n",
        "      count2+=1\n",
        "    else:\n",
        "      pass\n",
        "  dic_may = {sw1:PV_22may_sw1/count1,sw2:PV_22may_sw2/count2}\n",
        "  dic_jun = {sw1:PV_22jun_sw1/count1,sw2:PV_22jun_sw2/count2}\n",
        "  print(max(dic_may.keys()),max(dic_may.values()))\n",
        "  print(max(dic_jun.keys()),max(dic_jun.values()))\n",
        "except:\n",
        "  print('その単語ペアはありません')\n",
        "# print(PV_22may_sw1/count1,PV_22jun_sw1/count1)\n",
        "# print(PV_22may_sw2/count2,PV_22jun_sw2/count2)\n",
        "# dic_may = {sw1:PV_22may_sw1/count1,sw2:PV_22may_sw2/count2}\n",
        "# dic_jun = {sw1:PV_22jun_sw1/count1,sw2:PV_22jun_sw2/count2}\n",
        "# print(max(dic_may.keys()),max(dic_may.values()))\n",
        "# print(max(dic_jun.keys()),max(dic_jun.values()))"
      ]
    }
  ],
  "metadata": {
    "colab": {
      "collapsed_sections": [
        "RkbvfowSwV9K",
        "9-8jVLpM65qz",
        "BPK5ozad1ex5"
      ],
      "provenance": []
    },
    "kernelspec": {
      "display_name": "Python 3",
      "name": "python3"
    },
    "language_info": {
      "name": "python"
    }
  },
  "nbformat": 4,
  "nbformat_minor": 0
}
